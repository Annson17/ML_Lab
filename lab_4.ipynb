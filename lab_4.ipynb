{
 "cells": [
  {
   "cell_type": "code",
   "execution_count": 1,
   "id": "18824837",
   "metadata": {},
   "outputs": [],
   "source": [
    "import pandas as pd\n",
    "import numpy as np\n",
    "\n"
   ]
  },
  {
   "cell_type": "code",
   "execution_count": 2,
   "id": "dd87498c",
   "metadata": {},
   "outputs": [],
   "source": [
    "data = pd.read_csv(r\"C:\\Users\\Admin\\Documents\\ML_Lab\\training_find_s.csv\")\n",
    "\n",
    "x=data.iloc[:, :-1].values\n",
    "y=data.iloc[:, -1].values"
   ]
  },
  {
   "cell_type": "code",
   "execution_count": 3,
   "id": "72e518de",
   "metadata": {},
   "outputs": [],
   "source": [
    "def find_s(x,y):\n",
    "    for i in range(len(y)):\n",
    "        if y[i].lower() == \"yes\":\n",
    "            hypothesis = x[i].copy()\n",
    "            break\n",
    "    for i in range(len(y)):\n",
    "        if y[i].lower() == \"yes\":\n",
    "            for j in range(len(hypothesis)):\n",
    "                if x[i][j] != hypothesis[j]:\n",
    "                    hypothesis[j] = '?'\n",
    "    return hypothesis                \n",
    "                  "
   ]
  },
  {
   "cell_type": "code",
   "execution_count": 4,
   "id": "1959af51",
   "metadata": {},
   "outputs": [
    {
     "name": "stdout",
     "output_type": "stream",
     "text": [
      "Final Hypothesis is \n",
      " ['>=9' 'Yes' '?' 'Good' '?' '?']\n"
     ]
    }
   ],
   "source": [
    "final_hypothesis=find_s(x,y)\n",
    "print(\"Final Hypothesis is \\n\",final_hypothesis)"
   ]
  },
  {
   "cell_type": "code",
   "execution_count": 7,
   "id": "9c63ef23",
   "metadata": {},
   "outputs": [
    {
     "name": "stdout",
     "output_type": "stream",
     "text": [
      "final hypothesis is:\n",
      " ['>=9' 'Yes' '?' 'Good' '?' '?']\n"
     ]
    }
   ],
   "source": [
    "import pandas as pd\n",
    "\n",
    "data=pd.read_csv(r\"C:\\Users\\Admin\\Documents\\ML_Lab\\training_find_s.csv\")\n",
    "\n",
    "x=data.iloc[:, :-1].values\n",
    "y=data.iloc[:, -1].values\n",
    "\n",
    "def find_s(x,y):\n",
    "    for i in range(len(y)):\n",
    "        if y[i].lower() == \"yes\":\n",
    "            hypothesis=x[i].copy()\n",
    "\n",
    "    for i in range(len(y)):\n",
    "        if y[i].lower() == \"yes\":\n",
    "            for j in range(len(hypothesis)):\n",
    "                if x[i][j] != hypothesis[j]:\n",
    "                    hypothesis[j]='?'\n",
    "    return hypothesis\n",
    "\n",
    "final_hypothesis=find_s(x,y)\n",
    "print(\"final hypothesis is:\\n\",final_hypothesis)\n",
    "\n",
    "\n",
    "\n"
   ]
  }
 ],
 "metadata": {
  "kernelspec": {
   "display_name": "Python 3",
   "language": "python",
   "name": "python3"
  },
  "language_info": {
   "codemirror_mode": {
    "name": "ipython",
    "version": 3
   },
   "file_extension": ".py",
   "mimetype": "text/x-python",
   "name": "python",
   "nbconvert_exporter": "python",
   "pygments_lexer": "ipython3",
   "version": "3.11.9"
  }
 },
 "nbformat": 4,
 "nbformat_minor": 5
}
